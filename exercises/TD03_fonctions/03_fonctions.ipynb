{
 "cells": [
  {
   "cell_type": "markdown",
   "metadata": {},
   "source": [
    "# Instructions Générales\n",
    "\n",
    "Ce TD est à faire en créant un fichier td3.py, que vous éditerez dans VSCode. \n",
    "Vous ne remplirez pas les cellules de ce notebook, mais vous les copierez au fur et à mesure \n",
    "dans votre fichier pour les compléter.\n",
    "\n",
    "Vous respecterez au mieux les règles d'écriture de code, en particulier chaque fonction devra avoir un **docstring** et des commentaires si nécessaire et les noms de variable seront illustratifs de leur usage. Vous utiliserez les outils de débogage (flake8, mypy, debugger, pythontutor ...) pour corriger vos bogues."
   ]
  },
  {
   "cell_type": "markdown",
   "metadata": {},
   "source": [
    "# Gestion du temps\n",
    "\n",
    "Nous allons créer un petit logiciel de gestion du temps et des dates.\n",
    "Pour cela nous aurons besoin de créer un certain nombre de fonctions utilitaires.\n",
    "\n",
    "Un temps a le format suivant: (jour: int, heure: int, minute: int, seconde: int).\n",
    "C'est un tuple de 4 éléments. Par exemple (4, 3, 13, 20) correspond à 4 jours, 3 heures, 13 minutes et 20 secondes.\n",
    "Si on a une variable temps = (4, 3, 13, 20), pour accéder au premier élément on fait temps\\[0\\] ce qui donne 4,\n",
    "le nombre de jours.\n",
    "\n",
    "Créer la fonction qui prend comme argument le temps et renvoie le nombre de seconde total correspondant à ce temps.\n",
    "Créer la fonction qui prend un nombre de secondes et renvoie le temps correspondant."
   ]
  },
  {
   "cell_type": "code",
   "execution_count": 1,
   "metadata": {},
   "outputs": [
    {
     "name": "stdout",
     "output_type": "stream",
     "text": [
      "<class 'tuple'>\n",
      "342094\n"
     ]
    }
   ],
   "source": [
    "import time\n",
    "\n",
    "#tuple c'est comme les liste mais on le met à la fin et c'est avec les parentesse au lieu de crochet\n",
    "# imeable on ne peut pas faire de modification\n",
    "\n",
    "\n",
    "def tempsEnSeconde(temps: tuple) -> int:\n",
    "    \"\"\" Renvoie le nombre de secondes du temps donné\n",
    "        comme jour, heure, minute, seconde.\"\"\"\n",
    "    return temps[0] * 86400 + temps[1] * 3600 + temps[2] * 60 + temps[3]\n",
    "\n",
    "\n",
    "mon_temps = (3, 23, 1, 34)\n",
    "print(type(mon_temps))\n",
    "print(tempsEnSeconde(mon_temps))\n",
    "\n"
   ]
  },
  {
   "cell_type": "code",
   "execution_count": 22,
   "metadata": {},
   "outputs": [
    {
     "data": {
      "text/plain": [
       "(4,)"
      ]
     },
     "execution_count": 22,
     "metadata": {},
     "output_type": "execute_result"
    }
   ],
   "source": [
    "t = ()\n",
    "type(t)\n",
    "t = (4,)\n",
    "type(t)\n",
    "t\n",
    "# les parenthèse sont facultatif\n",
    "t = 4, True,\"coumba\"\n",
    "4 in t\n"
   ]
  },
  {
   "cell_type": "code",
   "execution_count": 25,
   "metadata": {},
   "outputs": [
    {
     "data": {
      "text/plain": [
       "True"
      ]
     },
     "execution_count": 25,
     "metadata": {},
     "output_type": "execute_result"
    }
   ],
   "source": [
    "# les parenthèse sont facultatif\n",
    "t = 4, True,\"coumba\"\n",
    "4 in t"
   ]
  },
  {
   "cell_type": "code",
   "execution_count": 26,
   "metadata": {},
   "outputs": [
    {
     "ename": "TypeError",
     "evalue": "'int' object is not iterable",
     "output_type": "error",
     "traceback": [
      "\u001b[1;31m---------------------------------------------------------------------------\u001b[0m",
      "\u001b[1;31mTypeError\u001b[0m                                 Traceback (most recent call last)",
      "\u001b[1;32mc:\\Users\\niang\\OneDrive\\Documents\\l1 IN100\\l1-IN100-python\\exercises\\TD03_fonctions\\03_fonctions.ipynb Cell 6'\u001b[0m in \u001b[0;36m<module>\u001b[1;34m\u001b[0m\n\u001b[0;32m      <a href='vscode-notebook-cell:/c%3A/Users/niang/OneDrive/Documents/l1%20IN100/l1-IN100-python/exercises/TD03_fonctions/03_fonctions.ipynb#ch0000032?line=0'>1</a>\u001b[0m \u001b[39m#on peut convertir en lise\u001b[39;00m\n\u001b[0;32m      <a href='vscode-notebook-cell:/c%3A/Users/niang/OneDrive/Documents/l1%20IN100/l1-IN100-python/exercises/TD03_fonctions/03_fonctions.ipynb#ch0000032?line=1'>2</a>\u001b[0m t \u001b[39m=\u001b[39m[\u001b[39m4\u001b[39m, \u001b[39mTrue\u001b[39;00m,\u001b[39m\"\u001b[39m\u001b[39mcoumba\u001b[39m\u001b[39m\"\u001b[39m]\n\u001b[1;32m----> <a href='vscode-notebook-cell:/c%3A/Users/niang/OneDrive/Documents/l1%20IN100/l1-IN100-python/exercises/TD03_fonctions/03_fonctions.ipynb#ch0000032?line=2'>3</a>\u001b[0m t \u001b[39m=\u001b[39m \u001b[39mtuple\u001b[39;49m(\u001b[39m1\u001b[39;49m)\n",
      "\u001b[1;31mTypeError\u001b[0m: 'int' object is not iterable"
     ]
    }
   ],
   "source": [
    "#on peut convertir en lise\n",
    "t =[4, True,\"coumba\"]\n",
    "t = tuple(1)"
   ]
  },
  {
   "cell_type": "code",
   "execution_count": null,
   "metadata": {},
   "outputs": [],
   "source": []
  },
  {
   "cell_type": "code",
   "execution_count": 3,
   "metadata": {},
   "outputs": [
    {
     "name": "stdout",
     "output_type": "stream",
     "text": [
      "1 jours 3 heures 46 minutes 40 secondes\n"
     ]
    }
   ],
   "source": [
    "def secondesEnTemps(secondes: int) -> tuple:\n",
    "    \"\"\" Renvoie le temps (jour, heure, minute, seconde) qui\n",
    "        correspond au nombre de secondes passé en argument.\"\"\"\n",
    "    jours = secondes // 86400\n",
    "    reste = secondes % 86400\n",
    "\n",
    "    heures = reste // 3600\n",
    "    reste = reste % 3600\n",
    "\n",
    "    minutes = reste // 60\n",
    "    reste = reste % 60\n",
    "\n",
    "    return (jours, heures, minutes, reste)\n",
    "\n",
    "mon_temps = secondesEnTemps(100000)\n",
    "print(mon_temps[0], \"jours\", mon_temps[1], \"heures\", mon_temps[2], \"minutes\",\n",
    "      mon_temps[3], \"secondes\")\n",
    "\n"
   ]
  },
  {
   "cell_type": "markdown",
   "metadata": {},
   "source": [
    "Créer une fonction d'affichage d'un temps `afficheTemps`. Attention, les mots jour, heure et seconde doivent être au pluriel s'il y en a plusieurs. S'il y en a zéro, ils ne doivent pas apparaître.\n",
    "`print(message, end=\"\")` permet de ne pas sauter une ligne après un print. \n",
    "Vous pouvez écrire une fonction qui affiche un mot au pluriel ou non, appelée ensuite plusieurs fois par `afficheTemps` pour simplifier votre code.\n"
   ]
  },
  {
   "cell_type": "code",
   "execution_count": 4,
   "metadata": {},
   "outputs": [],
   "source": [
    "def affichePluriel(mot: str, nombre: int) -> None:\n",
    "    \"\"\" Affiche (ou non) un mot en fonction du paramètre nombre.\n",
    "        Met le mot au pluriel si nécessaire.\"\"\"\n",
    "    if nombre > 0:\n",
    "        print(\" \", nombre, mot, end=\"\")\n",
    "\n",
    "    if nombre > 1:\n",
    "        print(\"s\", end=\"\")"
   ]
  },
  {
   "cell_type": "code",
   "execution_count": 5,
   "metadata": {},
   "outputs": [
    {
     "name": "stdout",
     "output_type": "stream",
     "text": [
      "  1 jour  14 minutes  23 secondes\n"
     ]
    }
   ],
   "source": [
    "#fonction auxiliaire ici\n",
    "\n",
    "def afficheTemps(temps: tuple) -> None:\n",
    "    \"\"\" Affiche le tuple temps sous la forme :\n",
    "        X jour(s), X heure(s), X minute(s), X seconde(s)\"\"\"\n",
    "    affichePluriel(\"jour\", temps[0])\n",
    "    affichePluriel(\"heure\", temps[1])\n",
    "    affichePluriel(\"minute\", temps[2])\n",
    "    affichePluriel(\"seconde\", temps[3])\n",
    "    print()\n",
    "\n",
    "\n",
    "afficheTemps((1, 0, 14, 23))"
   ]
  },
  {
   "cell_type": "markdown",
   "metadata": {},
   "source": [
    "Ecrire une fonction qui demande à l'utilisateur de rentrer un nombre de jours, d'heures, de minutes et\n",
    "de secondes et qui renvoie un temps. Attention, si l'entrée utilisateur n'est pas correcte, par exemple 80 minutes,\n",
    "afficher un message d'erreur et s'arrêter.\n",
    "\n",
    "(Optionnel) Au lieu d'arêter le programme, demander de rentrer une nouvelle valeur, tant que \n",
    "ce n'est pas une valeur correcte."
   ]
  },
  {
   "cell_type": "code",
   "execution_count": 6,
   "metadata": {},
   "outputs": [
    {
     "name": "stdout",
     "output_type": "stream",
     "text": [
      "  6 jours  6 heures  8 minutes  19 secondes\n"
     ]
    }
   ],
   "source": [
    "def demandeTemps() -> tuple:\n",
    "    \"\"\"Demande à l'utilisateur un nombre de jours, d'heures, de minutes\n",
    "    et de secondes et les renvoie sous la forme d'un tuple de temps.\"\"\"\n",
    "    jours = -1\n",
    "    heures = -1\n",
    "    minutes = -1\n",
    "    secondes = -1\n",
    "\n",
    "    while (jours < 0):\n",
    "        jours = int(input(\"Entrez un nombre de jour \"))\n",
    "\n",
    "    while (heures < 0 or heures >= 24):\n",
    "        heures = int(input(\"Entrez un nombre d'heures \"))\n",
    "\n",
    "    while (minutes < 0 or minutes >= 60):\n",
    "        minutes = int(input(\"Entrez un nombre de minutes \"))\n",
    "\n",
    "    while (secondes < 0 or secondes >= 60):\n",
    "        secondes = int(input(\"Entrez un nombre de secondes \"))\n",
    "\n",
    "    return (jours, heures, minutes, secondes)\n",
    "\n",
    "\n",
    "afficheTemps(demandeTemps())"
   ]
  },
  {
   "cell_type": "markdown",
   "metadata": {},
   "source": [
    "On veut être capable d'additionner deux temps. Donner une fonction qui fait ce calcul,\n",
    "en utilisant les fonctions précédentes."
   ]
  },
  {
   "cell_type": "code",
   "execution_count": 7,
   "metadata": {},
   "outputs": [
    {
     "name": "stdout",
     "output_type": "stream",
     "text": [
      "  8 jours  2 heures  1 minute  26 secondes\n"
     ]
    }
   ],
   "source": [
    "def sommeTemps(temps1: tuple, temps2: tuple) -> tuple:\n",
    "    \"\"\"Retourne la somme des deux temps passés en paramètres.\"\"\"\n",
    "    return secondesEnTemps(tempsEnSeconde(temps1) + tempsEnSeconde(temps2))\n",
    "\n",
    "\n",
    "afficheTemps(sommeTemps((2, 3, 4, 25), (5, 22, 57, 1)))"
   ]
  },
  {
   "cell_type": "code",
   "execution_count": null,
   "metadata": {},
   "outputs": [],
   "source": []
  },
  {
   "cell_type": "markdown",
   "metadata": {},
   "source": [
    "On veut maintenant calculer un pourcentage d'un temps. Par exemple, 20% de\n",
    "2 jours et 36 minutes correspond à 9 heures, 43 minutes et 12 secondes.\n",
    "\n",
    "Implémenter la fonction `proportionTemps` puis appeler cette fonction en échangeant l'ordre des arguments mais en les nommant."
   ]
  },
  {
   "cell_type": "code",
   "execution_count": 8,
   "metadata": {},
   "outputs": [
    {
     "name": "stdout",
     "output_type": "stream",
     "text": [
      "  9 heures  43 minutes  12 secondes\n",
      "  9 heures  43 minutes  12 secondes\n"
     ]
    }
   ],
   "source": [
    "def proportionTemps(temps: tuple, proportion: float) -> tuple:\n",
    "    \"\"\"Retourne un temps egal au temps passé en paramètre après\n",
    "    application de la proportion.\"\"\"\n",
    "    return secondesEnTemps(int(tempsEnSeconde(temps) * proportion))\n",
    "\n",
    "\n",
    "afficheTemps(proportionTemps((2, 0, 36, 0), 0.2))\n",
    "afficheTemps(proportionTemps(proportion=0.2, temps=(2, 0, 36, 0)))\n"
   ]
  },
  {
   "cell_type": "markdown",
   "metadata": {},
   "source": [
    "On veut maintenant afficher un temps sous forme de date, en supposant \n",
    "que le temps 0 est le 1 janvier 1970 à 00:00:00.\n",
    "\n",
    "* Implémenter une fonction `tempsEnDate`qui donne la date sous la forme (année, jour, heure, minute, seconde).\n",
    "* Implémenter la fonction `afficheDate`qui affiche la date. \n",
    "* (Optionnel) Gérer également les mois."
   ]
  },
  {
   "cell_type": "code",
   "execution_count": 9,
   "metadata": {},
   "outputs": [],
   "source": [
    "def tempsEnDate(temps: tuple) -> tuple:\n",
    "    \"\"\" Retourne un tuple contenant la date obtenue en ajoutant la\n",
    "        durée stockée dans le paramètre temps au 1er Janvier 1970.\n",
    "        Ne prend pas en compte les années bisextiles.\"\"\"\n",
    "    annee = 1970 + temps[0] // 365\n",
    "    numero_du_jour = 1 + temps[0] % 365\n",
    "    return (annee, numero_du_jour, temps[1], temps[2], temps[3])\n"
   ]
  },
  {
   "cell_type": "code",
   "execution_count": 10,
   "metadata": {},
   "outputs": [],
   "source": [
    "# afficheDate(date: tuple = ()) : Cela signifie que la fonction\n",
    "# prend un paramètre nommé date de type tuple. Ce paramètre peut être\n",
    "# omis et dans ce cas il prendra la valeur par défaut () qui est\n",
    "# un tuple vide.\n",
    "def afficheDate(date: tuple = ()) -> None:\n",
    "    \"\"\" Affiche la date passée en paramètre. Si aucune date n'est passée,\n",
    "        affiche la date du jour. Ne gère pas les mois.\"\"\"\n",
    "    if len(date) == 0:\n",
    "        date = tempsEnDate(secondesEnTemps(int(time.time())))\n",
    "    print(\"Jour numéro\", date[1], \"de l'année\", date[0], \"à\",\n",
    "          str(date[2]) + \":\" + str(date[3]) + \":\" + str(date[4]))"
   ]
  },
  {
   "cell_type": "markdown",
   "metadata": {},
   "source": [
    "Il existe des fonctions dans la librairie `time` pour la gestion du temps. En particulier, il existe\n",
    "une fonction `time` qui donne le temps écoulé depuis 1970 en secondes. \n",
    "La trouver avec la [documentation python](https://docs.python.org/fr/3/library/time.html#module-time) et la tester en utilisant `afficheDate`. \n",
    "Tester de la même manière la fonction `time.gmtime` qui réalise une tâche similaire à `tempsEnDate`.\n",
    "Que constatez vous ?"
   ]
  },
  {
   "cell_type": "code",
   "execution_count": 11,
   "metadata": {},
   "outputs": [
    {
     "name": "stdout",
     "output_type": "stream",
     "text": [
      "  1 jour  1 seconde\n",
      "Jour numéro 2 de l'année 1970 à 0:0:1\n",
      "Jour numéro 144 de l'année 2022 à 7:46:16\n",
      "1652255176.6489146\n"
     ]
    }
   ],
   "source": [
    "#tester ici les fonctions de la librairie time\n",
    "mon_temps = secondesEnTemps(86401)\n",
    "afficheTemps(mon_temps)\n",
    "afficheDate(tempsEnDate(mon_temps))\n",
    "afficheDate()\n",
    "\n",
    "print(time.time())"
   ]
  },
  {
   "cell_type": "markdown",
   "metadata": {},
   "source": [
    "Attention, tous les 4 ans les années sont bisextiles (un jour de plus) sauf les multiples de 100 qui ne sont pas des multiples de 400.\n",
    "Donner un code qui prend un nombre de jours et affiche toutes les années bisextiles depuis le 1er janvier 1970 à 00:00:00 jusqu'à la fin de ces jours."
   ]
  },
  {
   "cell_type": "code",
   "execution_count": null,
   "metadata": {},
   "outputs": [],
   "source": [
    "def bisextile(jours: int) -> None:\n",
    "    \"\"\" Affiche toutes les années bisextiles entre le 1er Janvier 1970\n",
    "        et le nombre de jours passé en paramètre.\"\"\"\n",
    "    annee = 1970\n",
    "    while(jours >= 365):\n",
    "        if estBisextile(annee):\n",
    "            print(\"L'année \" + str(annee) + \" est bisextile\")\n",
    "            jours -= 366\n",
    "        else:\n",
    "            jours -= 365\n",
    "        annee += 1\n",
    "\n",
    "\n",
    "bisextile(20000)"
   ]
  },
  {
   "cell_type": "markdown",
   "metadata": {},
   "source": [
    "Implémenter une fonction `nombreBisextile` qui calcule le nombre d'années bisextiles entre le 1er janvier 1970 et le nombre de jour donnés.\n",
    "Utilisez-la pour implémenter une fonction `tempsEnDateBisextile` qui fait la même chose que `tempsEnDate` mais en prenant en compte les années bisextiles."
   ]
  },
  {
   "cell_type": "code",
   "execution_count": 17,
   "metadata": {},
   "outputs": [],
   "source": [
    "def nombreBisextile(jours: int) -> int:\n",
    "    \"\"\" Retourne le nombre d'années bisextiles entre le 1er Janvier 1970\n",
    "    et le nombre de jours passé en paramètre.\"\"\"\n",
    "    annee = 1970\n",
    "    compteur_bisextile = 0\n",
    "    while(jours >= 365):\n",
    "        if estBisextile(annee):\n",
    "            compteur_bisextile += 1\n",
    "            jours -= 366\n",
    "        else:\n",
    "            jours -= 365\n",
    "        annee += 1\n",
    "    return compteur_bisextile"
   ]
  },
  {
   "cell_type": "code",
   "execution_count": 15,
   "metadata": {},
   "outputs": [
    {
     "ename": "NameError",
     "evalue": "name 'estBisextile' is not defined",
     "output_type": "error",
     "traceback": [
      "\u001b[1;31m---------------------------------------------------------------------------\u001b[0m",
      "\u001b[1;31mNameError\u001b[0m                                 Traceback (most recent call last)",
      "\u001b[1;32mc:\\Users\\niang\\OneDrive\\Documents\\l1 IN100\\l1-IN100-python\\exercises\\TD03_fonctions\\03_fonctions.ipynb Cell 24'\u001b[0m in \u001b[0;36m<module>\u001b[1;34m\u001b[0m\n\u001b[0;32m      <a href='vscode-notebook-cell:/c%3A/Users/niang/OneDrive/Documents/l1%20IN100/l1-IN100-python/exercises/TD03_fonctions/03_fonctions.ipynb#ch0000027?line=6'>7</a>\u001b[0m     temps_ajuste \u001b[39m=\u001b[39m (jour, heure, minute, seconde)\n\u001b[0;32m      <a href='vscode-notebook-cell:/c%3A/Users/niang/OneDrive/Documents/l1%20IN100/l1-IN100-python/exercises/TD03_fonctions/03_fonctions.ipynb#ch0000027?line=7'>8</a>\u001b[0m     \u001b[39mreturn\u001b[39;00m tempsEnDate(temps_ajuste)\n\u001b[1;32m---> <a href='vscode-notebook-cell:/c%3A/Users/niang/OneDrive/Documents/l1%20IN100/l1-IN100-python/exercises/TD03_fonctions/03_fonctions.ipynb#ch0000027?line=10'>11</a>\u001b[0m afficheDate(tempsEnDateBisextile(secondesEnTemps(\u001b[39mint\u001b[39;49m(time\u001b[39m.\u001b[39;49mtime()))))\n",
      "\u001b[1;32mc:\\Users\\niang\\OneDrive\\Documents\\l1 IN100\\l1-IN100-python\\exercises\\TD03_fonctions\\03_fonctions.ipynb Cell 24'\u001b[0m in \u001b[0;36mtempsEnDateBisextile\u001b[1;34m(temps)\u001b[0m\n\u001b[0;32m      <a href='vscode-notebook-cell:/c%3A/Users/niang/OneDrive/Documents/l1%20IN100/l1-IN100-python/exercises/TD03_fonctions/03_fonctions.ipynb#ch0000027?line=1'>2</a>\u001b[0m \u001b[39m\"\"\" Retourne un tuple contenant la date obtenue en ajoutant la\u001b[39;00m\n\u001b[0;32m      <a href='vscode-notebook-cell:/c%3A/Users/niang/OneDrive/Documents/l1%20IN100/l1-IN100-python/exercises/TD03_fonctions/03_fonctions.ipynb#ch0000027?line=2'>3</a>\u001b[0m \u001b[39m    durée stockée dans le paramètre temps au 1er Janvier 1970,\u001b[39;00m\n\u001b[0;32m      <a href='vscode-notebook-cell:/c%3A/Users/niang/OneDrive/Documents/l1%20IN100/l1-IN100-python/exercises/TD03_fonctions/03_fonctions.ipynb#ch0000027?line=3'>4</a>\u001b[0m \u001b[39m    en prenant en compte les années bisextiles.\"\"\"\u001b[39;00m\n\u001b[0;32m      <a href='vscode-notebook-cell:/c%3A/Users/niang/OneDrive/Documents/l1%20IN100/l1-IN100-python/exercises/TD03_fonctions/03_fonctions.ipynb#ch0000027?line=4'>5</a>\u001b[0m jour, heure, minute, seconde \u001b[39m=\u001b[39m temps\n\u001b[1;32m----> <a href='vscode-notebook-cell:/c%3A/Users/niang/OneDrive/Documents/l1%20IN100/l1-IN100-python/exercises/TD03_fonctions/03_fonctions.ipynb#ch0000027?line=5'>6</a>\u001b[0m jour \u001b[39m=\u001b[39m jour \u001b[39m-\u001b[39m nombreBisextile(jour)\n\u001b[0;32m      <a href='vscode-notebook-cell:/c%3A/Users/niang/OneDrive/Documents/l1%20IN100/l1-IN100-python/exercises/TD03_fonctions/03_fonctions.ipynb#ch0000027?line=6'>7</a>\u001b[0m temps_ajuste \u001b[39m=\u001b[39m (jour, heure, minute, seconde)\n\u001b[0;32m      <a href='vscode-notebook-cell:/c%3A/Users/niang/OneDrive/Documents/l1%20IN100/l1-IN100-python/exercises/TD03_fonctions/03_fonctions.ipynb#ch0000027?line=7'>8</a>\u001b[0m \u001b[39mreturn\u001b[39;00m tempsEnDate(temps_ajuste)\n",
      "\u001b[1;32mc:\\Users\\niang\\OneDrive\\Documents\\l1 IN100\\l1-IN100-python\\exercises\\TD03_fonctions\\03_fonctions.ipynb Cell 23'\u001b[0m in \u001b[0;36mnombreBisextile\u001b[1;34m(jours)\u001b[0m\n\u001b[0;32m      <a href='vscode-notebook-cell:/c%3A/Users/niang/OneDrive/Documents/l1%20IN100/l1-IN100-python/exercises/TD03_fonctions/03_fonctions.ipynb#ch0000019?line=4'>5</a>\u001b[0m compteur_bisextile \u001b[39m=\u001b[39m \u001b[39m0\u001b[39m\n\u001b[0;32m      <a href='vscode-notebook-cell:/c%3A/Users/niang/OneDrive/Documents/l1%20IN100/l1-IN100-python/exercises/TD03_fonctions/03_fonctions.ipynb#ch0000019?line=5'>6</a>\u001b[0m \u001b[39mwhile\u001b[39;00m(jours \u001b[39m>\u001b[39m\u001b[39m=\u001b[39m \u001b[39m365\u001b[39m):\n\u001b[1;32m----> <a href='vscode-notebook-cell:/c%3A/Users/niang/OneDrive/Documents/l1%20IN100/l1-IN100-python/exercises/TD03_fonctions/03_fonctions.ipynb#ch0000019?line=6'>7</a>\u001b[0m     \u001b[39mif\u001b[39;00m estBisextile(annee):\n\u001b[0;32m      <a href='vscode-notebook-cell:/c%3A/Users/niang/OneDrive/Documents/l1%20IN100/l1-IN100-python/exercises/TD03_fonctions/03_fonctions.ipynb#ch0000019?line=7'>8</a>\u001b[0m         compteur_bisextile \u001b[39m+\u001b[39m\u001b[39m=\u001b[39m \u001b[39m1\u001b[39m\n\u001b[0;32m      <a href='vscode-notebook-cell:/c%3A/Users/niang/OneDrive/Documents/l1%20IN100/l1-IN100-python/exercises/TD03_fonctions/03_fonctions.ipynb#ch0000019?line=8'>9</a>\u001b[0m         jours \u001b[39m-\u001b[39m\u001b[39m=\u001b[39m \u001b[39m366\u001b[39m\n",
      "\u001b[1;31mNameError\u001b[0m: name 'estBisextile' is not defined"
     ]
    }
   ],
   "source": [
    "def tempsEnDateBisextile(temps: tuple) -> tuple:\n",
    "    \"\"\" Retourne un tuple contenant la date obtenue en ajoutant la\n",
    "        durée stockée dans le paramètre temps au 1er Janvier 1970,\n",
    "        en prenant en compte les années bisextiles.\"\"\"\n",
    "    jour, heure, minute, seconde = temps\n",
    "    jour = jour - nombreBisextile(jour)\n",
    "    temps_ajuste = (jour, heure, minute, seconde)\n",
    "    return tempsEnDate(temps_ajuste)\n",
    "\n",
    "\n",
    "afficheDate(tempsEnDateBisextile(secondesEnTemps(int(time.time()))))\n",
    "\n"
   ]
  },
  {
   "cell_type": "code",
   "execution_count": 18,
   "metadata": {},
   "outputs": [
    {
     "ename": "NameError",
     "evalue": "name 'estBisextile' is not defined",
     "output_type": "error",
     "traceback": [
      "\u001b[1;31m---------------------------------------------------------------------------\u001b[0m",
      "\u001b[1;31mNameError\u001b[0m                                 Traceback (most recent call last)",
      "\u001b[1;32mc:\\Users\\niang\\OneDrive\\Documents\\l1 IN100\\l1-IN100-python\\exercises\\TD03_fonctions\\03_fonctions.ipynb Cell 25'\u001b[0m in \u001b[0;36m<module>\u001b[1;34m\u001b[0m\n\u001b[0;32m     <a href='vscode-notebook-cell:/c%3A/Users/niang/OneDrive/Documents/l1%20IN100/l1-IN100-python/exercises/TD03_fonctions/03_fonctions.ipynb#ch0000028?line=27'>28</a>\u001b[0m             \u001b[39mbreak\u001b[39;00m\n\u001b[0;32m     <a href='vscode-notebook-cell:/c%3A/Users/niang/OneDrive/Documents/l1%20IN100/l1-IN100-python/exercises/TD03_fonctions/03_fonctions.ipynb#ch0000028?line=29'>30</a>\u001b[0m     \u001b[39mprint\u001b[39m(jour, mois, date[\u001b[39m0\u001b[39m], \u001b[39m\"\u001b[39m\u001b[39mà\u001b[39m\u001b[39m\"\u001b[39m, \u001b[39mstr\u001b[39m(date[\u001b[39m2\u001b[39m]) \u001b[39m+\u001b[39m \u001b[39m\"\u001b[39m\u001b[39m:\u001b[39m\u001b[39m\"\u001b[39m \u001b[39m+\u001b[39m \u001b[39mstr\u001b[39m(date[\u001b[39m3\u001b[39m])\n\u001b[0;32m     <a href='vscode-notebook-cell:/c%3A/Users/niang/OneDrive/Documents/l1%20IN100/l1-IN100-python/exercises/TD03_fonctions/03_fonctions.ipynb#ch0000028?line=30'>31</a>\u001b[0m           \u001b[39m+\u001b[39m \u001b[39m\"\u001b[39m\u001b[39m:\u001b[39m\u001b[39m\"\u001b[39m \u001b[39m+\u001b[39m \u001b[39mstr\u001b[39m(date[\u001b[39m4\u001b[39m]))\n\u001b[1;32m---> <a href='vscode-notebook-cell:/c%3A/Users/niang/OneDrive/Documents/l1%20IN100/l1-IN100-python/exercises/TD03_fonctions/03_fonctions.ipynb#ch0000028?line=33'>34</a>\u001b[0m afficheDateV2()\n\u001b[0;32m     <a href='vscode-notebook-cell:/c%3A/Users/niang/OneDrive/Documents/l1%20IN100/l1-IN100-python/exercises/TD03_fonctions/03_fonctions.ipynb#ch0000028?line=34'>35</a>\u001b[0m afficheDateV2((\u001b[39m2020\u001b[39m, \u001b[39m60\u001b[39m, \u001b[39m12\u001b[39m, \u001b[39m0\u001b[39m, \u001b[39m0\u001b[39m))\n",
      "\u001b[1;32mc:\\Users\\niang\\OneDrive\\Documents\\l1 IN100\\l1-IN100-python\\exercises\\TD03_fonctions\\03_fonctions.ipynb Cell 25'\u001b[0m in \u001b[0;36mafficheDateV2\u001b[1;34m(date)\u001b[0m\n\u001b[0;32m      <a href='vscode-notebook-cell:/c%3A/Users/niang/OneDrive/Documents/l1%20IN100/l1-IN100-python/exercises/TD03_fonctions/03_fonctions.ipynb#ch0000028?line=3'>4</a>\u001b[0m \u001b[39m\"\"\" Affiche la date passée en paramètre. Si aucune date n'est passée,\u001b[39;00m\n\u001b[0;32m      <a href='vscode-notebook-cell:/c%3A/Users/niang/OneDrive/Documents/l1%20IN100/l1-IN100-python/exercises/TD03_fonctions/03_fonctions.ipynb#ch0000028?line=4'>5</a>\u001b[0m \u001b[39maffiche la date du jour. Gère les mois et les années bisextiles.\"\"\"\u001b[39;00m\n\u001b[0;32m      <a href='vscode-notebook-cell:/c%3A/Users/niang/OneDrive/Documents/l1%20IN100/l1-IN100-python/exercises/TD03_fonctions/03_fonctions.ipynb#ch0000028?line=5'>6</a>\u001b[0m \u001b[39mif\u001b[39;00m \u001b[39mlen\u001b[39m(date) \u001b[39m==\u001b[39m \u001b[39m0\u001b[39m:\n\u001b[1;32m----> <a href='vscode-notebook-cell:/c%3A/Users/niang/OneDrive/Documents/l1%20IN100/l1-IN100-python/exercises/TD03_fonctions/03_fonctions.ipynb#ch0000028?line=6'>7</a>\u001b[0m     date \u001b[39m=\u001b[39m tempsEnDateBisextile(secondesEnTemps(\u001b[39mint\u001b[39;49m(time\u001b[39m.\u001b[39;49mtime())))\n\u001b[0;32m      <a href='vscode-notebook-cell:/c%3A/Users/niang/OneDrive/Documents/l1%20IN100/l1-IN100-python/exercises/TD03_fonctions/03_fonctions.ipynb#ch0000028?line=8'>9</a>\u001b[0m \u001b[39m# On établit deux listes :\u001b[39;00m\n\u001b[0;32m     <a href='vscode-notebook-cell:/c%3A/Users/niang/OneDrive/Documents/l1%20IN100/l1-IN100-python/exercises/TD03_fonctions/03_fonctions.ipynb#ch0000028?line=9'>10</a>\u001b[0m \u001b[39m# Une liste des noms de chaque mois\u001b[39;00m\n\u001b[0;32m     <a href='vscode-notebook-cell:/c%3A/Users/niang/OneDrive/Documents/l1%20IN100/l1-IN100-python/exercises/TD03_fonctions/03_fonctions.ipynb#ch0000028?line=10'>11</a>\u001b[0m nom_des_mois \u001b[39m=\u001b[39m [\u001b[39m\"\u001b[39m\u001b[39mJanvier\u001b[39m\u001b[39m\"\u001b[39m, \u001b[39m\"\u001b[39m\u001b[39mFévrier\u001b[39m\u001b[39m\"\u001b[39m, \u001b[39m\"\u001b[39m\u001b[39mMars\u001b[39m\u001b[39m\"\u001b[39m, \u001b[39m\"\u001b[39m\u001b[39mAvril\u001b[39m\u001b[39m\"\u001b[39m, \u001b[39m\"\u001b[39m\u001b[39mMai\u001b[39m\u001b[39m\"\u001b[39m, \u001b[39m\"\u001b[39m\u001b[39mJuin\u001b[39m\u001b[39m\"\u001b[39m,\n\u001b[0;32m     <a href='vscode-notebook-cell:/c%3A/Users/niang/OneDrive/Documents/l1%20IN100/l1-IN100-python/exercises/TD03_fonctions/03_fonctions.ipynb#ch0000028?line=11'>12</a>\u001b[0m                 \u001b[39m\"\u001b[39m\u001b[39mJuillet\u001b[39m\u001b[39m\"\u001b[39m, \u001b[39m\"\u001b[39m\u001b[39mAout\u001b[39m\u001b[39m\"\u001b[39m, \u001b[39m\"\u001b[39m\u001b[39mSeptembre\u001b[39m\u001b[39m\"\u001b[39m, \u001b[39m\"\u001b[39m\u001b[39mOctobre\u001b[39m\u001b[39m\"\u001b[39m, \u001b[39m\"\u001b[39m\u001b[39mNovembre\u001b[39m\u001b[39m\"\u001b[39m,\n\u001b[0;32m     <a href='vscode-notebook-cell:/c%3A/Users/niang/OneDrive/Documents/l1%20IN100/l1-IN100-python/exercises/TD03_fonctions/03_fonctions.ipynb#ch0000028?line=12'>13</a>\u001b[0m                 \u001b[39m\"\u001b[39m\u001b[39mDécembre\u001b[39m\u001b[39m\"\u001b[39m]\n",
      "\u001b[1;32mc:\\Users\\niang\\OneDrive\\Documents\\l1 IN100\\l1-IN100-python\\exercises\\TD03_fonctions\\03_fonctions.ipynb Cell 24'\u001b[0m in \u001b[0;36mtempsEnDateBisextile\u001b[1;34m(temps)\u001b[0m\n\u001b[0;32m      <a href='vscode-notebook-cell:/c%3A/Users/niang/OneDrive/Documents/l1%20IN100/l1-IN100-python/exercises/TD03_fonctions/03_fonctions.ipynb#ch0000027?line=1'>2</a>\u001b[0m \u001b[39m\"\"\" Retourne un tuple contenant la date obtenue en ajoutant la\u001b[39;00m\n\u001b[0;32m      <a href='vscode-notebook-cell:/c%3A/Users/niang/OneDrive/Documents/l1%20IN100/l1-IN100-python/exercises/TD03_fonctions/03_fonctions.ipynb#ch0000027?line=2'>3</a>\u001b[0m \u001b[39m    durée stockée dans le paramètre temps au 1er Janvier 1970,\u001b[39;00m\n\u001b[0;32m      <a href='vscode-notebook-cell:/c%3A/Users/niang/OneDrive/Documents/l1%20IN100/l1-IN100-python/exercises/TD03_fonctions/03_fonctions.ipynb#ch0000027?line=3'>4</a>\u001b[0m \u001b[39m    en prenant en compte les années bisextiles.\"\"\"\u001b[39;00m\n\u001b[0;32m      <a href='vscode-notebook-cell:/c%3A/Users/niang/OneDrive/Documents/l1%20IN100/l1-IN100-python/exercises/TD03_fonctions/03_fonctions.ipynb#ch0000027?line=4'>5</a>\u001b[0m jour, heure, minute, seconde \u001b[39m=\u001b[39m temps\n\u001b[1;32m----> <a href='vscode-notebook-cell:/c%3A/Users/niang/OneDrive/Documents/l1%20IN100/l1-IN100-python/exercises/TD03_fonctions/03_fonctions.ipynb#ch0000027?line=5'>6</a>\u001b[0m jour \u001b[39m=\u001b[39m jour \u001b[39m-\u001b[39m nombreBisextile(jour)\n\u001b[0;32m      <a href='vscode-notebook-cell:/c%3A/Users/niang/OneDrive/Documents/l1%20IN100/l1-IN100-python/exercises/TD03_fonctions/03_fonctions.ipynb#ch0000027?line=6'>7</a>\u001b[0m temps_ajuste \u001b[39m=\u001b[39m (jour, heure, minute, seconde)\n\u001b[0;32m      <a href='vscode-notebook-cell:/c%3A/Users/niang/OneDrive/Documents/l1%20IN100/l1-IN100-python/exercises/TD03_fonctions/03_fonctions.ipynb#ch0000027?line=7'>8</a>\u001b[0m \u001b[39mreturn\u001b[39;00m tempsEnDate(temps_ajuste)\n",
      "\u001b[1;32mc:\\Users\\niang\\OneDrive\\Documents\\l1 IN100\\l1-IN100-python\\exercises\\TD03_fonctions\\03_fonctions.ipynb Cell 23'\u001b[0m in \u001b[0;36mnombreBisextile\u001b[1;34m(jours)\u001b[0m\n\u001b[0;32m      <a href='vscode-notebook-cell:/c%3A/Users/niang/OneDrive/Documents/l1%20IN100/l1-IN100-python/exercises/TD03_fonctions/03_fonctions.ipynb#ch0000019?line=4'>5</a>\u001b[0m compteur_bisextile \u001b[39m=\u001b[39m \u001b[39m0\u001b[39m\n\u001b[0;32m      <a href='vscode-notebook-cell:/c%3A/Users/niang/OneDrive/Documents/l1%20IN100/l1-IN100-python/exercises/TD03_fonctions/03_fonctions.ipynb#ch0000019?line=5'>6</a>\u001b[0m \u001b[39mwhile\u001b[39;00m(jours \u001b[39m>\u001b[39m\u001b[39m=\u001b[39m \u001b[39m365\u001b[39m):\n\u001b[1;32m----> <a href='vscode-notebook-cell:/c%3A/Users/niang/OneDrive/Documents/l1%20IN100/l1-IN100-python/exercises/TD03_fonctions/03_fonctions.ipynb#ch0000019?line=6'>7</a>\u001b[0m     \u001b[39mif\u001b[39;00m estBisextile(annee):\n\u001b[0;32m      <a href='vscode-notebook-cell:/c%3A/Users/niang/OneDrive/Documents/l1%20IN100/l1-IN100-python/exercises/TD03_fonctions/03_fonctions.ipynb#ch0000019?line=7'>8</a>\u001b[0m         compteur_bisextile \u001b[39m+\u001b[39m\u001b[39m=\u001b[39m \u001b[39m1\u001b[39m\n\u001b[0;32m      <a href='vscode-notebook-cell:/c%3A/Users/niang/OneDrive/Documents/l1%20IN100/l1-IN100-python/exercises/TD03_fonctions/03_fonctions.ipynb#ch0000019?line=8'>9</a>\u001b[0m         jours \u001b[39m-\u001b[39m\u001b[39m=\u001b[39m \u001b[39m366\u001b[39m\n",
      "\u001b[1;31mNameError\u001b[0m: name 'estBisextile' is not defined"
     ]
    }
   ],
   "source": [
    "# Question optionnelle : Gestion des mois dans afficheDate\n",
    "\n",
    "def afficheDateV2(date: tuple = ()) -> None:\n",
    "    \"\"\" Affiche la date passée en paramètre. Si aucune date n'est passée,\n",
    "    affiche la date du jour. Gère les mois et les années bisextiles.\"\"\"\n",
    "    if len(date) == 0:\n",
    "        date = tempsEnDateBisextile(secondesEnTemps(int(time.time())))\n",
    "\n",
    "    # On établit deux listes :\n",
    "    # Une liste des noms de chaque mois\n",
    "    nom_des_mois = [\"Janvier\", \"Février\", \"Mars\", \"Avril\", \"Mai\", \"Juin\",\n",
    "                    \"Juillet\", \"Aout\", \"Septembre\", \"Octobre\", \"Novembre\",\n",
    "                    \"Décembre\"]\n",
    "    # Ainsi qu'une liste des numéros du jour final de chaque mois\n",
    "    fin_des_mois = [31, 59, 90, 120, 151, 181, 212, 243, 273, 304, 334, 365]\n",
    "    # Si l'année est bisextile, augmenter les fins des mois de 1 (sauf janvier)\n",
    "    if estBisextile(date[0]):\n",
    "        for i in range(1, 12):\n",
    "            fin_des_mois[i] += 1\n",
    "\n",
    "    mois = \"\"\n",
    "    jour = date[1]\n",
    "\n",
    "    for i in range(12):\n",
    "        if jour <= fin_des_mois[i]:\n",
    "            mois = nom_des_mois[i]\n",
    "            jour -= fin_des_mois[i-1]\n",
    "            break\n",
    "\n",
    "    print(jour, mois, date[0], \"à\", str(date[2]) + \":\" + str(date[3])\n",
    "          + \":\" + str(date[4]))\n",
    "\n",
    "\n",
    "afficheDateV2()\n",
    "afficheDateV2((2020, 60, 12, 0, 0))\n"
   ]
  },
  {
   "cell_type": "markdown",
   "metadata": {},
   "source": [
    "Ajouter des valeurs par défaut dans le code de `afficheDate` afin de pouvoir ommettre\n",
    "l'argument de ces fonctions. Dans ce cas là, on affichera la date actuelle en utilisant la fonction `time`."
   ]
  },
  {
   "cell_type": "markdown",
   "metadata": {},
   "source": [
    "On va maintenant inspecter notre code pour améliorer sa qualité:\n",
    "\n",
    "* Regarder tous les warnings donnés par flake8 et essayer de les régler.\n",
    "* Utiliser le debugger (F5) pour étudier le fonctionnement de votre fonction nombreBisextile.\n",
    "* Mettre les annotations de type des arguments et du retour de la fonction pour nombreBisextile et une autre fonction de votre choix. Vérifier avec mypy que tout fonctionne bien."
   ]
  },
  {
   "cell_type": "markdown",
   "metadata": {},
   "source": [
    "Donner une fonction qui vérifie la charge horaire d'un employé, donnée sous forme d'une liste de temps travaillé chaque semaine dans un mois. Il ne faut pas dépasser 48h par semaine et 140h par mois (qu'on considère ici de 4 semaines).\n",
    "\n",
    "(Optionnel) S'adapter à une liste qui peut contenir plusieurs mois."
   ]
  },
  {
   "cell_type": "code",
   "execution_count": null,
   "metadata": {},
   "outputs": [],
   "source": [
    "def verifie(liste_temps):\n",
    "    pass\n",
    "\n",
    "\n",
    "liste_temps = [[1,2,39,34],[0,1,9,4],[0,29,39,51],[0,31,13,46]]\n",
    "verifie(liste_temps)"
   ]
  }
 ],
 "metadata": {
  "interpreter": {
   "hash": "ae2d1afe3852ee05d609a1e54e0fd02fadbf5d65fe546ae274fa66dfed621fd7"
  },
  "kernelspec": {
   "display_name": "Python 3.9.7 ('base')",
   "language": "python",
   "name": "python3"
  },
  "language_info": {
   "codemirror_mode": {
    "name": "ipython",
    "version": 3
   },
   "file_extension": ".py",
   "mimetype": "text/x-python",
   "name": "python",
   "nbconvert_exporter": "python",
   "pygments_lexer": "ipython3",
   "version": "3.9.7"
  }
 },
 "nbformat": 4,
 "nbformat_minor": 4
}
