{
 "cells": [
  {
   "cell_type": "code",
   "execution_count": null,
   "metadata": {},
   "outputs": [],
   "source": [
    "#cc1"
   ]
  },
  {
   "cell_type": "code",
   "execution_count": 1,
   "metadata": {},
   "outputs": [
    {
     "name": "stdout",
     "output_type": "stream",
     "text": [
      "2 8\n"
     ]
    }
   ],
   "source": [
    "a, b = 5, 3\n",
    "b, a = a + b, a - b\n",
    "print(a, b)"
   ]
  },
  {
   "cell_type": "code",
   "execution_count": 1,
   "metadata": {},
   "outputs": [
    {
     "name": "stdout",
     "output_type": "stream",
     "text": [
      "False\n"
     ]
    }
   ],
   "source": [
    "print(0.1 + 0.2 == 0.3)"
   ]
  },
  {
   "cell_type": "code",
   "execution_count": 2,
   "metadata": {},
   "outputs": [
    {
     "ename": "SyntaxError",
     "evalue": "invalid syntax (3298974214.py, line 2)",
     "output_type": "error",
     "traceback": [
      "\u001b[1;36m  Input \u001b[1;32mIn [2]\u001b[1;36m\u001b[0m\n\u001b[1;33m    if (i%3) = 1\u001b[0m\n\u001b[1;37m             ^\u001b[0m\n\u001b[1;31mSyntaxError\u001b[0m\u001b[1;31m:\u001b[0m invalid syntax\n"
     ]
    }
   ],
   "source": [
    "for i in range(5):\n",
    "    if (i%3) = 1\n",
    "    print(\"hello\")"
   ]
  },
  {
   "cell_type": "code",
   "execution_count": 23,
   "metadata": {},
   "outputs": [
    {
     "name": "stdout",
     "output_type": "stream",
     "text": [
      "aaaaaaaa\n"
     ]
    }
   ],
   "source": [
    "a, b = 1, \"a\"\n",
    "while a < 50 :\n",
    "     a = a + 1\n",
    "     if len(b) <= 5 :\n",
    "         b = b * 2\n",
    "     else: \n",
    "        break;\n",
    "print(b)"
   ]
  },
  {
   "cell_type": "code",
   "execution_count": 30,
   "metadata": {},
   "outputs": [
    {
     "ename": "SyntaxError",
     "evalue": "invalid syntax (73008170.py, line 1)",
     "output_type": "error",
     "traceback": [
      "\u001b[1;36m  Input \u001b[1;32mIn [30]\u001b[1;36m\u001b[0m\n\u001b[1;33m    int(input(entrez_un_nombre)) :\u001b[0m\n\u001b[1;37m                                  ^\u001b[0m\n\u001b[1;31mSyntaxError\u001b[0m\u001b[1;31m:\u001b[0m invalid syntax\n"
     ]
    }
   ],
   "source": [
    "int(input(entrez_un_nombre))"
   ]
  },
  {
   "cell_type": "code",
   "execution_count": 35,
   "metadata": {},
   "outputs": [
    {
     "name": "stdout",
     "output_type": "stream",
     "text": [
      "5050\n"
     ]
    }
   ],
   "source": [
    "s = 0\n",
    "for i in range(1, 101):\n",
    "    s = s + i\n",
    "print (s)"
   ]
  },
  {
   "cell_type": "code",
   "execution_count": 40,
   "metadata": {},
   "outputs": [
    {
     "name": "stdout",
     "output_type": "stream",
     "text": [
      "2500\n"
     ]
    }
   ],
   "source": [
    "# 1+3+5+.....+90\n",
    "s = 0\n",
    "for i in range(1,100,2) :\n",
    "    s = s + i \n",
    "print(s)\n"
   ]
  },
  {
   "cell_type": "code",
   "execution_count": 43,
   "metadata": {},
   "outputs": [
    {
     "name": "stdout",
     "output_type": "stream",
     "text": [
      "salut Coumba comment tu vas ?\n"
     ]
    }
   ],
   "source": [
    "a = input (\"quel est ton prenom ?\")\n",
    "print (\"salut \" + a + \" comment tu vas ?\")"
   ]
  },
  {
   "cell_type": "code",
   "execution_count": 56,
   "metadata": {},
   "outputs": [
    {
     "name": "stdout",
     "output_type": "stream",
     "text": [
      "20.5\n"
     ]
    }
   ],
   "source": [
    "a = float (input(\"ton age\"))\n",
    "print(a)"
   ]
  },
  {
   "cell_type": "code",
   "execution_count": 16,
   "metadata": {},
   "outputs": [
    {
     "name": "stdout",
     "output_type": "stream",
     "text": [
      "323232\n"
     ]
    }
   ],
   "source": [
    "s = (str(3) + \"2\")*int(\"3\")\n",
    "print(s)"
   ]
  },
  {
   "cell_type": "code",
   "execution_count": 20,
   "metadata": {},
   "outputs": [
    {
     "ename": "KeyboardInterrupt",
     "evalue": "",
     "output_type": "error",
     "traceback": [
      "\u001b[1;31m---------------------------------------------------------------------------\u001b[0m",
      "\u001b[1;31mKeyboardInterrupt\u001b[0m                         Traceback (most recent call last)",
      "\u001b[1;32mc:\\Users\\niang\\OneDrive\\Documents\\l1 IN100\\l1-IN100-python\\cours\\04_fonctions\\revision_cc.ipynb Cell 7'\u001b[0m in \u001b[0;36m<module>\u001b[1;34m\u001b[0m\n\u001b[0;32m      <a href='vscode-notebook-cell:/c%3A/Users/niang/OneDrive/Documents/l1%20IN100/l1-IN100-python/cours/04_fonctions/revision_cc.ipynb#ch0000006?line=2'>3</a>\u001b[0m \u001b[39mif\u001b[39;00m a \u001b[39m==\u001b[39m b :\n\u001b[0;32m      <a href='vscode-notebook-cell:/c%3A/Users/niang/OneDrive/Documents/l1%20IN100/l1-IN100-python/cours/04_fonctions/revision_cc.ipynb#ch0000006?line=3'>4</a>\u001b[0m     b \u001b[39m+\u001b[39m\u001b[39m=\u001b[39m \u001b[39m1\u001b[39m\n\u001b[1;32m----> <a href='vscode-notebook-cell:/c%3A/Users/niang/OneDrive/Documents/l1%20IN100/l1-IN100-python/cours/04_fonctions/revision_cc.ipynb#ch0000006?line=4'>5</a>\u001b[0m \u001b[39melif\u001b[39;00m a \u001b[39m<\u001b[39m b :\n\u001b[0;32m      <a href='vscode-notebook-cell:/c%3A/Users/niang/OneDrive/Documents/l1%20IN100/l1-IN100-python/cours/04_fonctions/revision_cc.ipynb#ch0000006?line=5'>6</a>\u001b[0m     a \u001b[39m+\u001b[39m\u001b[39m=\u001b[39m \u001b[39m1\u001b[39m\n\u001b[0;32m      <a href='vscode-notebook-cell:/c%3A/Users/niang/OneDrive/Documents/l1%20IN100/l1-IN100-python/cours/04_fonctions/revision_cc.ipynb#ch0000006?line=6'>7</a>\u001b[0m \u001b[39melse\u001b[39;00m :\n",
      "\u001b[1;31mKeyboardInterrupt\u001b[0m: "
     ]
    }
   ],
   "source": [
    "a, b = 0, 0\n",
    "while a <= b \n",
    "    if a == b :\n",
    "        b += 1\n",
    "    elif a < b :\n",
    "        a += 1\n",
    "    else :\n",
    "        pass\n",
    "print(b)"
   ]
  }
 ],
 "metadata": {
  "interpreter": {
   "hash": "10d96f4450c87b37c58efd3aefb4398926300fcc8771492e6c69fa358a7ac31d"
  },
  "kernelspec": {
   "display_name": "Python 3.9.7 ('base')",
   "language": "python",
   "name": "python3"
  },
  "language_info": {
   "codemirror_mode": {
    "name": "ipython",
    "version": 3
   },
   "file_extension": ".py",
   "mimetype": "text/x-python",
   "name": "python",
   "nbconvert_exporter": "python",
   "pygments_lexer": "ipython3",
   "version": "3.9.7"
  },
  "orig_nbformat": 4
 },
 "nbformat": 4,
 "nbformat_minor": 2
}
